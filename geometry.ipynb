{
 "cells": [
  {
   "cell_type": "code",
   "execution_count": 116,
   "id": "6719f116-1708-4a9b-8b9c-f8deee888769",
   "metadata": {},
   "outputs": [],
   "source": [
    "import math\n",
    "import numpy as np\n",
    "\n",
    "def get_plane(A, B, C):\n",
    "    n = np.cross(B - A , C - A)\n",
    "    d = -(n[0] * A[0] + n[1] * A[1] + n[2] * A[2])\n",
    "    return (n, d)\n",
    "\n",
    "def mirror_point(a, b, c, d, point):\n",
    "    x1, y1, z1 = point\n",
    "    k =(-a * x1-b * y1-c * z1-d)/float((a * a + b * b + c * c))\n",
    "    x2 = a * k + x1\n",
    "    y2 = b * k + y1\n",
    "    z2 = c * k + z1\n",
    "    x3 = 2 * x2-x1\n",
    "    y3 = 2 * y2-y1\n",
    "    z3 = 2 * z2-z1\n",
    "    return x3, y3, z3"
   ]
  },
  {
   "cell_type": "code",
   "execution_count": 117,
   "id": "a0313fd4-acd3-4eb6-ba28-0a3bfc3ae054",
   "metadata": {},
   "outputs": [],
   "source": [
    "class Tetra:\n",
    "    \n",
    "    def __init__(self, sA, sB, sC, sD):\n",
    "        self.A = sA\n",
    "        self.B = sB\n",
    "        self.C = sC\n",
    "        self.D = sD\n",
    "        \n",
    "    def center(self):\n",
    "        return ((self.A[0] + self.B[0] + self.C[0] + self.D[0])/4, \n",
    "        (self.A[1] + self.B[1] + self.C[1] + self.D[1])/4, \n",
    "        (self.A[2] + self.B[2] + self.C[2] + self.D[2])/4)\n",
    "    \n",
    "    def reflect(self, Vertex):\n",
    "        \n",
    "        if Vertex == \"A\":\n",
    "            plane = get_plane(self.B, self.C, self.D)\n",
    "            new_vertex = mirror_point(*plane[0], plane[1], self.A)\n",
    "            vertices = (new_vertex, self.B, self.C, self.D)\n",
    "        elif Vertex == \"B\":\n",
    "            plane = get_plane(self.A, self.C, self.D)\n",
    "            new_vertex = mirror_point(*plane[0], plane[1], self.B)\n",
    "            vertices = (self.A, new_vertex, self.C, self.D)\n",
    "        elif Vertex == \"C\":\n",
    "            plane = get_plane(self.A, self.B, self.D)\n",
    "            new_vertex = mirror_point(*plane[0], plane[1], self.C)\n",
    "            vertices = (self.A, self.B, new_vertex, self.D)\n",
    "        elif Vertex == \"D\":\n",
    "            plane = get_plane(self.A, self.B, self.C)\n",
    "            new_vertex = mirror_point(*plane[0], plane[1], self.D)\n",
    "            vertices = (self.A, self.B, self.C, new_vertex)\n",
    "            \n",
    "        return Tetra(*vertices)\n",
    "            \n",
    "    def reflect_seq(self, seq):\n",
    "        if len(seq) == 1:\n",
    "            return self.reflect(seq)\n",
    "        else:\n",
    "            return self.reflect(seq[0]).reflect_seq(seq[1:])\n",
    "            \n",
    "       "
   ]
  },
  {
   "cell_type": "code",
   "execution_count": 118,
   "id": "55d4bcb9-e6d0-4f76-b69d-c1ed89a59295",
   "metadata": {},
   "outputs": [
    {
     "name": "stdout",
     "output_type": "stream",
     "text": [
      "(0.3535533905932738, 0.3535533905932738, -0.75)\n",
      "(0.3535533905932738, 0.3535533905932738, -0.75)\n"
     ]
    }
   ],
   "source": [
    "# Define first tetrahedron with edges\n",
    "t1 = Tetra(np.array((0,0,0)), np.array((math.sqrt(2), 0, -1)), np.array((0, math.sqrt(2), -1)), np.array((0,0,-1)))\n",
    "\n",
    "# get the center of mass of the tetrahedron\n",
    "print(t1.center())\n",
    "\n",
    "# get a new tetrahedron by reflection the first one through edge C\n",
    "t2 = t1.reflect(\"C\")\n",
    "\n",
    "# get the center of the tetrahedron which is created by sequentially reflecting tetrahedron 1 by the Sequence AA\n",
    "# (first reflect t1 by A, and then reflect the result by A, and get the center of the final result)\n",
    "print(t1.reflect_seq(\"AA\").center())"
   ]
  },
  {
   "cell_type": "code",
   "execution_count": null,
   "id": "102c3965-ddbd-4826-914e-d927ff67e225",
   "metadata": {},
   "outputs": [],
   "source": []
  }
 ],
 "metadata": {
  "kernelspec": {
   "display_name": "Python 3 (ipykernel)",
   "language": "python",
   "name": "python3"
  },
  "language_info": {
   "codemirror_mode": {
    "name": "ipython",
    "version": 3
   },
   "file_extension": ".py",
   "mimetype": "text/x-python",
   "name": "python",
   "nbconvert_exporter": "python",
   "pygments_lexer": "ipython3",
   "version": "3.9.13"
  }
 },
 "nbformat": 4,
 "nbformat_minor": 5
}
