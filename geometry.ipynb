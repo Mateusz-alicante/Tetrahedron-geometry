{
 "cells": [
  {
   "cell_type": "code",
   "execution_count": 1,
   "id": "6719f116-1708-4a9b-8b9c-f8deee888769",
   "metadata": {},
   "outputs": [
    {
     "name": "stdout",
     "output_type": "stream",
     "text": [
      "Notebook initialized with ipy backend.\n"
     ]
    }
   ],
   "source": [
    "import math\n",
    "import random\n",
    "import numpy as np\n",
    "from mayavi import mlab\n",
    "mlab.init_notebook()\n",
    "\n",
    "def get_plane(A, B, C):\n",
    "    n = np.cross(B - A , C - A)\n",
    "    d = -(n[0] * A[0] + n[1] * A[1] + n[2] * A[2])\n",
    "    return (n, d)\n",
    "\n",
    "def mirror_point(a, b, c, d, point):\n",
    "    x1, y1, z1 = point\n",
    "    k =(-a * x1-b * y1-c * z1-d)/float((a * a + b * b + c * c))\n",
    "    x2 = a * k + x1\n",
    "    y2 = b * k + y1\n",
    "    z2 = c * k + z1\n",
    "    x3 = 2 * x2-x1\n",
    "    y3 = 2 * y2-y1\n",
    "    z3 = 2 * z2-z1\n",
    "    return x3, y3, z3"
   ]
  },
  {
   "cell_type": "code",
   "execution_count": 2,
   "id": "a0313fd4-acd3-4eb6-ba28-0a3bfc3ae054",
   "metadata": {},
   "outputs": [],
   "source": [
    "class Tetra:\n",
    "    \n",
    "    def __init__(self, sA, sB, sC, sD):\n",
    "        self.A = np.array(sA)\n",
    "        self.B = np.array(sB)\n",
    "        self.C = np.array(sC)\n",
    "        self.D = np.array(sD)\n",
    "        \n",
    "    def center(self):\n",
    "        return ((self.A[0] + self.B[0] + self.C[0] + self.D[0])/4, \n",
    "        (self.A[1] + self.B[1] + self.C[1] + self.D[1])/4, \n",
    "        (self.A[2] + self.B[2] + self.C[2] + self.D[2])/4)\n",
    "    \n",
    "    def get_plot_points(self):\n",
    "        points = []\n",
    "        center = self.center()\n",
    "        for vertex in [self.A, self.B, self.C, self.D]:\n",
    "            points.append(vertex + 0.4 * (center - vertex))\n",
    "        return points\n",
    "    \n",
    "    def reflect(self, Vertex):\n",
    "        \n",
    "        if Vertex == \"A\":\n",
    "            plane = get_plane(self.B, self.C, self.D)\n",
    "            new_vertex = mirror_point(*plane[0], plane[1], self.A)\n",
    "            vertices = (new_vertex, self.B, self.C, self.D)\n",
    "        elif Vertex == \"B\":\n",
    "            plane = get_plane(self.A, self.C, self.D)\n",
    "            new_vertex = mirror_point(*plane[0], plane[1], self.B)\n",
    "            vertices = (self.A, new_vertex, self.C, self.D)\n",
    "        elif Vertex == \"C\":\n",
    "            plane = get_plane(self.A, self.B, self.D)\n",
    "            new_vertex = mirror_point(*plane[0], plane[1], self.C)\n",
    "            vertices = (self.A, self.B, new_vertex, self.D)\n",
    "        elif Vertex == \"D\":\n",
    "            plane = get_plane(self.A, self.B, self.C)\n",
    "            new_vertex = mirror_point(*plane[0], plane[1], self.D)\n",
    "            vertices = (self.A, self.B, self.C, new_vertex)\n",
    "            \n",
    "        return Tetra(*vertices)\n",
    "    \n",
    "    def plot_tetrahedron(self):\n",
    "        x, y, z = [], [], []\n",
    "        for vertex in [self.A, self.B, self.C, self.D]:\n",
    "            x.append(vertex[0])\n",
    "            y.append(vertex[1])\n",
    "            z.append(vertex[2])\n",
    "            \n",
    "           \n",
    "        mlab.clf()\n",
    "        print(x,y,z)\n",
    "        return mlab.points3d(np.array(x),np.array(y),np.array(z) , colormap=\"cool\")\n",
    "            \n",
    "    def reflect_seq(self, seq, center_points = [], tetra_points = []):\n",
    "        center_points.append(self.center())\n",
    "        tetra_points.append(self.get_plot_points())\n",
    "        if len(seq) == 1:\n",
    "            reflection = self.reflect(seq)\n",
    "            return reflection, center_points + [reflection.center()], tetra_points + [reflection.get_plot_points()]\n",
    "        else:\n",
    "            return self.reflect(seq[0]).reflect_seq(seq[1:], center_points, tetra_points)\n",
    "        \n",
    "    def reflect_seq_diagram(self, seq):\n",
    "        final, centers, tetra_points = self.reflect_seq(seq)\n",
    "        mlab.clf()\n",
    "        mlab.close(all=True)\n",
    "        for i in range(len(centers)):\n",
    "            this_color = (random.uniform(0, 1), random.uniform(0, 1), random.uniform(0, 1))\n",
    "            # plot line connecting centers\n",
    "            if i != 0:\n",
    "                start, end = centers[i - 1], centers[i]\n",
    "                mlab.plot3d([start[0], end[0]], [start[1], end[1]], [start[2], end[2]], color=(0,0,0), tube_radius=.03)\n",
    "                \n",
    "            # plot centers of mass\n",
    "            mlab.points3d(*centers[i] , color=this_color, scale_factor=.3)\n",
    "            \n",
    "            # plot all vertices in all tetrahedrons\n",
    "            \n",
    "            for ip in range(len(tetra_points[i])):\n",
    "                mlab.points3d(*tetra_points[i][ip] , color=this_color, scale_factor=.1)\n",
    "                    \n",
    "                for ip in range(len(tetra_points[i])):\n",
    "                    mlab.points3d(*tetra_points[i][ip] , color=this_color, scale_factor=.1)\n",
    "                \n",
    "                    ips_to_connect = range(len(tetra_points[i]))[ip:]\n",
    "                    for ip_to_connect in ips_to_connect:\n",
    "                        start, end = tetra_points[i][ip], tetra_points[i][ip_to_connect]\n",
    "                        mlab.plot3d([start[0], end[0]], [start[1], end[1]], [start[2], end[2]], color=this_color, tube_radius=.01)\n",
    "        return mlab.points3d(self.center() , colormap=\"cool\", scale_factor=.01)\n",
    "            \n",
    "       "
   ]
  },
  {
   "cell_type": "code",
   "execution_count": 3,
   "id": "3ad95ea4-3d6c-4913-bb2d-525dcc5a42dc",
   "metadata": {},
   "outputs": [
    {
     "data": {
      "application/vnd.jupyter.widget-view+json": {
       "model_id": "bb938c64471948199060a22ce6635e7b",
       "version_major": 2,
       "version_minor": 0
      },
      "text/plain": [
       "Image(value=b'\\x89PNG\\r\\n\\x1a\\n\\x00\\x00\\x00\\rIHDR\\x00\\x00\\x01\\x90\\x00\\x00\\x01^\\x08\\x02\\x00\\x00\\x00$?\\xde_\\x00\\…"
      ]
     },
     "metadata": {},
     "output_type": "display_data"
    }
   ],
   "source": [
    "t1 = Tetra(np.array((math.sqrt(2), 0, -1)), np.array((0, math.sqrt(2), -1)), np.array((0,0,-1)) ,np.array((0,0,0)))\n",
    "mlab.clf()\n",
    "mlab.close(all=True)\n",
    "t1.reflect_seq_diagram(\"CABDCABD\")\n",
    "#t1.reflect_seq_diagram(\"ABCD\")"
   ]
  },
  {
   "cell_type": "code",
   "execution_count": 44,
   "id": "55d4bcb9-e6d0-4f76-b69d-c1ed89a59295",
   "metadata": {},
   "outputs": [
    {
     "name": "stdout",
     "output_type": "stream",
     "text": [
      "(0.3535533905932738, 0.3535533905932738, -0.75)\n",
      "(0.3535533905932738, 0.3535533905932738, -0.75)\n",
      "(-0.3535533905932738, 0.3535533905932738, -0.75)\n",
      "(-0.3535533905932738, -0.3535533905932738, -0.75)\n",
      "(0.3535533905932738, -0.3535533905932738, -0.75)\n",
      "(0.3535533905932738, 0.3535533905932738, -0.75)\n",
      "(-0.3535533905932738, 0.3535533905932738, -0.75)\n",
      "(-0.3535533905932738, -0.3535533905932738, -0.75)\n",
      "(0.3535533905932738, -0.3535533905932738, -0.75)\n",
      "[(0.3535533905932738, 0.3535533905932738, -0.75), (-0.3535533905932738, 0.3535533905932738, -0.75), (-0.3535533905932738, -0.3535533905932738, -0.75), (0.3535533905932738, -0.3535533905932738, -0.75), (0.3535533905932738, 0.3535533905932738, -0.75), (-0.3535533905932738, 0.3535533905932738, -0.75), (-0.3535533905932738, -0.3535533905932738, -0.75), (0.3535533905932738, -0.3535533905932738, -0.75)]\n"
     ]
    }
   ],
   "source": [
    "# Define first tetrahedron with edges\n",
    "t1 = Tetra(np.array((math.sqrt(2), 0, -1)), np.array((0, math.sqrt(2), -1)), np.array((0,0,-1)) ,np.array((0,0,0)))\n",
    "\n",
    "# get the center of mass of the tetrahedron\n",
    "print(t1.center())\n",
    "\n",
    "# get a new tetrahedron by reflection the first one through edge C\n",
    "t2 = t1.reflect(\"C\")\n",
    "\n",
    "# get the center of the tetrahedron which is created by sequentially reflecting tetrahedron 1 by the Sequence AA\n",
    "# (first reflect t1 by A, and then reflect the result by A, and get the center of the final result)\n",
    "print(t1.reflect_seq(\"ABABABAB\")[1])"
   ]
  },
  {
   "cell_type": "code",
   "execution_count": 45,
   "id": "102c3965-ddbd-4826-914e-d927ff67e225",
   "metadata": {},
   "outputs": [
    {
     "name": "stdout",
     "output_type": "stream",
     "text": [
      "(0.3535533905932738, 0.3535533905932738, -0.75)\n",
      "[(0.3535533905932738, 0.3535533905932738, -0.75), (-0.3535533905932738, 0.3535533905932738, -0.75), (-0.3535533905932738, -0.3535533905932738, -0.75), (0.3535533905932738, -0.3535533905932738, -0.75), (0.3535533905932738, 0.3535533905932738, -0.75), (-0.3535533905932738, 0.3535533905932738, -0.75), (-0.3535533905932738, -0.3535533905932738, -0.75), (0.3535533905932738, -0.3535533905932738, -0.75), (0.3535533905932738, 0.3535533905932738, -0.75)]\n"
     ]
    },
    {
     "data": {
      "application/vnd.jupyter.widget-view+json": {
       "model_id": "c0b3c2fc90ca46b1b2992ea4b5f3d1c6",
       "version_major": 2,
       "version_minor": 0
      },
      "text/plain": [
       "Image(value=b'\\xff\\xd8\\xff\\xe0\\x00\\x10JFIF\\x00\\x01\\x01\\x00\\x00\\x01\\x00\\x01\\x00\\x00\\xff\\xdb\\x00C\\x00\\r\\t\\n\\x0b\\…"
      ]
     },
     "metadata": {},
     "output_type": "display_data"
    }
   ],
   "source": []
  },
  {
   "cell_type": "code",
   "execution_count": 66,
   "id": "a0d9e80d-50c0-4f08-ac33-fa2b20872a98",
   "metadata": {},
   "outputs": [],
   "source": [
    "mlab.show()"
   ]
  },
  {
   "cell_type": "code",
   "execution_count": null,
   "id": "ac97ef04-13e2-4e69-a57e-56b9b5961a59",
   "metadata": {},
   "outputs": [],
   "source": [
    "t1."
   ]
  }
 ],
 "metadata": {
  "kernelspec": {
   "display_name": "Python 3 (ipykernel)",
   "language": "python",
   "name": "python3"
  },
  "language_info": {
   "codemirror_mode": {
    "name": "ipython",
    "version": 3
   },
   "file_extension": ".py",
   "mimetype": "text/x-python",
   "name": "python",
   "nbconvert_exporter": "python",
   "pygments_lexer": "ipython3",
   "version": "3.9.13"
  }
 },
 "nbformat": 4,
 "nbformat_minor": 5
}
